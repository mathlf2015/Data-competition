{
 "cells": [
  {
   "cell_type": "code",
   "execution_count": 1,
   "metadata": {},
   "outputs": [
    {
     "name": "stderr",
     "output_type": "stream",
     "text": [
      "E:\\Anaconda3\\lib\\site-packages\\gensim\\utils.py:1212: UserWarning: detected Windows; aliasing chunkize to chunkize_serial\n",
      "  warnings.warn(\"detected Windows; aliasing chunkize to chunkize_serial\")\n",
      "E:\\Anaconda3\\lib\\site-packages\\IPython\\core\\interactiveshell.py:2785: DtypeWarning: Columns (8) have mixed types. Specify dtype option on import or set low_memory=False.\n",
      "  interactivity=interactivity, compiler=compiler, result=result)\n"
     ]
    }
   ],
   "source": [
    "import os\n",
    "import pandas as pd\n",
    "\n",
    "from gensim.corpora import WikiCorpus\n",
    "from gensim.models import Word2Vec\n",
    "from gensim.models.word2vec import LineSentence\n",
    "import pandas as pd\n",
    "import multiprocessing\n",
    "import numpy as np\n",
    "\n",
    "L = 10\n",
    "\n",
    "path = '../data/new'\n",
    "save_path = path + '/w2v'\n",
    "if not os.path.exists(save_path):\n",
    "    print(save_path)\n",
    "    os.makedirs(save_path)\n",
    "\n",
    "\n",
    "train = pd.read_csv(path + '/transaction_TRAIN_new.csv')\n",
    "test = pd.read_csv(path + '/test_transaction_round2.csv')\n",
    "\n",
    "\n",
    "# train = pd.read_csv(path + '/operation_TRAIN_new.csv')\n",
    "# test = pd.read_csv(path + '/operation_round1_new.csv')"
   ]
  },
  {
   "cell_type": "code",
   "execution_count": 2,
   "metadata": {},
   "outputs": [
    {
     "name": "stdout",
     "output_type": "stream",
     "text": [
      "     UID  channel  day      time  trans_amt          amt_src1  \\\n",
      "0  19092      102   30  11:48:47       1459  acdbdb842ac20f1e   \n",
      "1  13465      140   23  16:58:03        725  4d7831c6f695ab19   \n",
      "2  13713      140   22  09:56:39        127  c5fc631370cabc0d   \n",
      "3  22703      140    1  18:11:45      99317  a571c7fda8b7df37   \n",
      "4  17816      140   22  13:04:02       3361  c5fc631370cabc0d   \n",
      "\n",
      "           merchant code1 code2       trans_type1        ...         \\\n",
      "0  abc6bc660561e0eb   NaN   NaN  26bcf43a19df14c8        ...          \n",
      "1  7a87b1aa20972d48   NaN   NaN  c2f2023d279665b2        ...          \n",
      "2  cfd035fc7e0a53b2   NaN   NaN  c2f2023d279665b2        ...          \n",
      "3  c71c876b8979028e   NaN   NaN  c2f2023d279665b2        ...          \n",
      "4  6628f5ca013e3582   NaN   NaN  c2f2023d279665b2        ...          \n",
      "\n",
      "                ip1   bal          amt_src2 acc_id2 acc_id3 geo_code  \\\n",
      "0  a664530c1fb20abe  1007  9fefed0a981dcb7a     NaN     NaN     wsbq   \n",
      "1  52abe1e300a8aa10   100               NaN     NaN     NaN     wte7   \n",
      "2  e4c132d02ff6c095   100               NaN     NaN     NaN     ws7n   \n",
      "3  e1c78a56cc9dfc8b   100  fbf6bf3c8927414c     NaN     NaN     wqj6   \n",
      "4  abb6b4b8f15be6d6   100               NaN     NaN     NaN      NaN   \n",
      "\n",
      "  trans_type2       market_code  market_type           ip1_sub  \n",
      "0       102.0  2ecf94369847c748          1.0  45f4ca1f4e9b9cb7  \n",
      "1       105.0               NaN          NaN  2b416f1d7e89ad3b  \n",
      "2       105.0               NaN          NaN  ff71a556d86c4b8f  \n",
      "3         NaN               NaN          NaN  cf1527a0b4173e8f  \n",
      "4       105.0               NaN          NaN  cbc62c2b1cb7deb9  \n",
      "\n",
      "[5 rows x 27 columns]\n"
     ]
    }
   ],
   "source": [
    "print(train.head(5))"
   ]
  },
  {
   "cell_type": "code",
   "execution_count": 3,
   "metadata": {},
   "outputs": [
    {
     "name": "stdout",
     "output_type": "stream",
     "text": [
      "     UID                                           merchant\n",
      "0  10000               [88aa547576f43f85, 88aa547576f43f85]\n",
      "1  10001  [d1136ca5db98c376, f3237791ad270d6b, 3f6d3d0f4...\n",
      "2  10002  [5b9283139b4920cc, 8f57527418b3f457, 5b9283139...\n",
      "3  10003  [3bd5cf7c40962299, 3bd5cf7c40962299, be2366a74...\n",
      "4  10004  [d67f4667ac10372d, d67f4667ac10372d, 3bd5cf7c4...\n",
      "(61135, 2)\n",
      "[['88aa547576f43f85', '88aa547576f43f85'], ['d1136ca5db98c376', 'f3237791ad270d6b', '3f6d3d0f42519ea4', 'a18cb3d84b9ec04c', 'd8babe2d19fa0c08', 'fd1e5bf59a1ee156', 'a18cb3d84b9ec04c', '3bd5cf7c40962299', 'a18cb3d84b9ec04c', 'a18cb3d84b9ec04c', 'a18cb3d84b9ec04c', 'd1136ca5db98c376', 'a18cb3d84b9ec04c', '3f6d3d0f42519ea4', 'f3237791ad270d6b', 'd8babe2d19fa0c08', 'fd1e5bf59a1ee156', 'd8babe2d19fa0c08'], ['5b9283139b4920cc', '8f57527418b3f457', '5b9283139b4920cc'], ['3bd5cf7c40962299', '3bd5cf7c40962299', 'be2366a746e08a07', '3bd5cf7c40962299'], ['d67f4667ac10372d', 'd67f4667ac10372d', '3bd5cf7c40962299', 'd67f4667ac10372d', '3bd5cf7c40962299', '3bd5cf7c40962299', '3bd5cf7c40962299']]\n",
      "training...\n"
     ]
    }
   ],
   "source": [
    "fea_name=\"merchant\"\n",
    "data = pd.concat([train, test]).reset_index(drop=True).sample(frac=1, random_state=2018)[[\"UID\",fea_name]].fillna(\"missing\")\n",
    "tmp = data.groupby([\"UID\"])[fea_name].apply(lambda x:x.tolist()).reset_index()\n",
    "print(tmp.head(5))\n",
    "print(tmp.shape)\n",
    "sentence =tmp[fea_name].tolist()\n",
    "print(sentence[:5])\n",
    "print('training...')\n"
   ]
  },
  {
   "cell_type": "code",
   "execution_count": 13,
   "metadata": {},
   "outputs": [
    {
     "name": "stdout",
     "output_type": "stream",
     "text": [
      "outputing...\n",
      "34971\n"
     ]
    },
    {
     "name": "stderr",
     "output_type": "stream",
     "text": [
      "E:\\Anaconda3\\lib\\site-packages\\ipykernel_launcher.py:16: DeprecationWarning: Call to deprecated `__getitem__` (Method will be removed in 4.0.0, use self.wv.__getitem__() instead).\n",
      "  app.launch_new_instance()\n"
     ]
    }
   ],
   "source": [
    "model = Word2Vec(sentence, size=L, window=2, min_count=1, workers=multiprocessing.cpu_count(),\n",
    "                 iter=10)\n",
    "print('outputing...')\n",
    "\n",
    "\n",
    "\n",
    "for fea in [fea_name]:\n",
    "    values = []\n",
    "    for line in list(data[fea].values):\n",
    "        values.append(line)\n",
    "    values = set(values)\n",
    "    print(len(values))\n",
    "    w2v = []\n",
    "    for i in values:\n",
    "        a = [i]\n",
    "        a.extend(model[str(i)])\n",
    "        w2v.append(a)\n",
    "    out_df = pd.DataFrame(w2v)\n",
    "\n",
    "    name = [fea]\n",
    "    for i in range(L):\n",
    "        name.append(name[0] + 'W' + str(i))\n",
    "    out_df.columns = name\n",
    "    out_df.to_csv(save_path + '/' + fea + 'new_.csv', index=False)"
   ]
  },
  {
   "cell_type": "code",
   "execution_count": null,
   "metadata": {},
   "outputs": [],
   "source": []
  }
 ],
 "metadata": {
  "kernelspec": {
   "display_name": "Python 3",
   "language": "python",
   "name": "python3"
  },
  "language_info": {
   "codemirror_mode": {
    "name": "ipython",
    "version": 3
   },
   "file_extension": ".py",
   "mimetype": "text/x-python",
   "name": "python",
   "nbconvert_exporter": "python",
   "pygments_lexer": "ipython3",
   "version": "3.6.5"
  }
 },
 "nbformat": 4,
 "nbformat_minor": 2
}
